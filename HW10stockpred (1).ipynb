{
  "nbformat": 4,
  "nbformat_minor": 0,
  "metadata": {
    "colab": {
      "provenance": []
    },
    "kernelspec": {
      "name": "python3",
      "display_name": "Python 3"
    },
    "language_info": {
      "name": "python"
    }
  },
  "cells": [
    {
      "cell_type": "code",
      "execution_count": 22,
      "metadata": {
        "id": "LIgM6VJ84wYq"
      },
      "outputs": [],
      "source": [
        "import numpy as np\n",
        "import matplotlib.pyplot as plt\n",
        "import pandas as pd"
      ]
    },
    {
      "cell_type": "code",
      "source": [
        "train = pd.read_csv('Google_Stock_Price_Train.csv')\n",
        "training_set = train.iloc[:, 1:2].values"
      ],
      "metadata": {
        "id": "BxX3mFBk4_F4"
      },
      "execution_count": 23,
      "outputs": []
    },
    {
      "cell_type": "code",
      "source": [
        "from sklearn.preprocessing import MinMaxScaler\n",
        "sc = MinMaxScaler(feature_range=(0, 1))\n",
        "training_set_scaled = sc.fit_transform(training_set)"
      ],
      "metadata": {
        "id": "i7FF_e885Abi"
      },
      "execution_count": 24,
      "outputs": []
    },
    {
      "cell_type": "code",
      "source": [
        "X_train = []\n",
        "y_train = []\n",
        "for i in range(60, 1258):\n",
        "    X_train.append(training_set_scaled[i-60:i, 0])\n",
        "    y_train.append(training_set_scaled[i, 0])\n",
        "X_train, y_train = np.array(X_train), np.array(y_train)\n",
        "\n",
        "X_train = np.reshape(X_train, (X_train.shape[0], X_train.shape[1], 1))"
      ],
      "metadata": {
        "id": "f8C5QTvC5Btq"
      },
      "execution_count": 25,
      "outputs": []
    },
    {
      "cell_type": "code",
      "source": [
        "from keras.models import Sequential\n",
        "from keras.layers import Dense\n",
        "from keras.layers import LSTM\n",
        "from keras.layers import Dropout"
      ],
      "metadata": {
        "id": "qfEferDd5EFt"
      },
      "execution_count": 26,
      "outputs": []
    },
    {
      "cell_type": "code",
      "source": [
        "regressor = Sequential()"
      ],
      "metadata": {
        "id": "n8213jiW5Odb"
      },
      "execution_count": 27,
      "outputs": []
    },
    {
      "cell_type": "code",
      "source": [
        "regressor.add(LSTM(units = 30, return_sequences= True, input_shape = (X_train.shape[1], 1)))\n",
        "regressor.add(Dropout(0.1))"
      ],
      "metadata": {
        "id": "Fa5ZIG-k5UkH"
      },
      "execution_count": 28,
      "outputs": []
    },
    {
      "cell_type": "code",
      "source": [
        "regressor.add(LSTM(units = 30, return_sequences= True))\n",
        "regressor.add(Dropout(0.1))"
      ],
      "metadata": {
        "id": "B9NDq2IB5oMw"
      },
      "execution_count": 29,
      "outputs": []
    },
    {
      "cell_type": "code",
      "source": [
        "regressor.add(LSTM(units = 30, return_sequences= True))\n",
        "regressor.add(Dropout(0.1))"
      ],
      "metadata": {
        "id": "8ospvMG_5ujm"
      },
      "execution_count": 30,
      "outputs": []
    },
    {
      "cell_type": "code",
      "source": [
        "regressor.add(LSTM(units = 30))\n",
        "regressor.add(Dropout(0.1))"
      ],
      "metadata": {
        "id": "KTMJHQ-Y5yMa"
      },
      "execution_count": 31,
      "outputs": []
    },
    {
      "cell_type": "code",
      "source": [
        "regressor.add(Dense(units = 1))"
      ],
      "metadata": {
        "id": "xM3ge94t51Zy"
      },
      "execution_count": 32,
      "outputs": []
    },
    {
      "cell_type": "code",
      "source": [
        "regressor.compile(optimizer = 'adam', loss = 'mean_squared_error')"
      ],
      "metadata": {
        "id": "2PV4xT2f55_V"
      },
      "execution_count": 33,
      "outputs": []
    },
    {
      "cell_type": "code",
      "source": [
        "regressor.fit(X_train, y_train, epochs = 100, batch_size = 32)"
      ],
      "metadata": {
        "colab": {
          "base_uri": "https://localhost:8080/"
        },
        "id": "ekbTZDMA6COF",
        "outputId": "edc2c7cf-b016-447f-899a-7104ce523a48"
      },
      "execution_count": 34,
      "outputs": [
        {
          "output_type": "stream",
          "name": "stdout",
          "text": [
            "Epoch 1/100\n",
            "38/38 [==============================] - 12s 94ms/step - loss: 0.0570\n",
            "Epoch 2/100\n",
            "38/38 [==============================] - 4s 94ms/step - loss: 0.0057\n",
            "Epoch 3/100\n",
            "38/38 [==============================] - 4s 108ms/step - loss: 0.0055\n",
            "Epoch 4/100\n",
            "38/38 [==============================] - 4s 104ms/step - loss: 0.0046\n",
            "Epoch 5/100\n",
            "38/38 [==============================] - 4s 94ms/step - loss: 0.0043\n",
            "Epoch 6/100\n",
            "38/38 [==============================] - 3s 92ms/step - loss: 0.0042\n",
            "Epoch 7/100\n",
            "38/38 [==============================] - 5s 125ms/step - loss: 0.0037\n",
            "Epoch 8/100\n",
            "38/38 [==============================] - 4s 92ms/step - loss: 0.0038\n",
            "Epoch 9/100\n",
            "38/38 [==============================] - 4s 94ms/step - loss: 0.0038\n",
            "Epoch 10/100\n",
            "38/38 [==============================] - 4s 119ms/step - loss: 0.0038\n",
            "Epoch 11/100\n",
            "38/38 [==============================] - 5s 124ms/step - loss: 0.0043\n",
            "Epoch 12/100\n",
            "38/38 [==============================] - 4s 93ms/step - loss: 0.0035\n",
            "Epoch 13/100\n",
            "38/38 [==============================] - 5s 120ms/step - loss: 0.0037\n",
            "Epoch 14/100\n",
            "38/38 [==============================] - 4s 99ms/step - loss: 0.0033\n",
            "Epoch 15/100\n",
            "38/38 [==============================] - 4s 94ms/step - loss: 0.0037\n",
            "Epoch 16/100\n",
            "38/38 [==============================] - 4s 118ms/step - loss: 0.0033\n",
            "Epoch 17/100\n",
            "38/38 [==============================] - 4s 93ms/step - loss: 0.0037\n",
            "Epoch 18/100\n",
            "38/38 [==============================] - 4s 94ms/step - loss: 0.0033\n",
            "Epoch 19/100\n",
            "38/38 [==============================] - 4s 103ms/step - loss: 0.0030\n",
            "Epoch 20/100\n",
            "38/38 [==============================] - 4s 110ms/step - loss: 0.0033\n",
            "Epoch 21/100\n",
            "38/38 [==============================] - 4s 95ms/step - loss: 0.0026\n",
            "Epoch 22/100\n",
            "38/38 [==============================] - 4s 99ms/step - loss: 0.0030\n",
            "Epoch 23/100\n",
            "38/38 [==============================] - 5s 120ms/step - loss: 0.0030\n",
            "Epoch 24/100\n",
            "38/38 [==============================] - 4s 94ms/step - loss: 0.0030\n",
            "Epoch 25/100\n",
            "38/38 [==============================] - 4s 94ms/step - loss: 0.0028\n",
            "Epoch 26/100\n",
            "38/38 [==============================] - 5s 125ms/step - loss: 0.0029\n",
            "Epoch 27/100\n",
            "38/38 [==============================] - 4s 96ms/step - loss: 0.0029\n",
            "Epoch 28/100\n",
            "38/38 [==============================] - 4s 95ms/step - loss: 0.0024\n",
            "Epoch 29/100\n",
            "38/38 [==============================] - 4s 118ms/step - loss: 0.0028\n",
            "Epoch 30/100\n",
            "38/38 [==============================] - 4s 94ms/step - loss: 0.0027\n",
            "Epoch 31/100\n",
            "38/38 [==============================] - 4s 93ms/step - loss: 0.0027\n",
            "Epoch 32/100\n",
            "38/38 [==============================] - 4s 104ms/step - loss: 0.0027\n",
            "Epoch 33/100\n",
            "38/38 [==============================] - 4s 109ms/step - loss: 0.0025\n",
            "Epoch 34/100\n",
            "38/38 [==============================] - 4s 94ms/step - loss: 0.0025\n",
            "Epoch 35/100\n",
            "38/38 [==============================] - 3s 91ms/step - loss: 0.0025\n",
            "Epoch 36/100\n",
            "38/38 [==============================] - 4s 119ms/step - loss: 0.0029\n",
            "Epoch 37/100\n",
            "38/38 [==============================] - 4s 93ms/step - loss: 0.0025\n",
            "Epoch 38/100\n",
            "38/38 [==============================] - 4s 94ms/step - loss: 0.0025\n",
            "Epoch 39/100\n",
            "38/38 [==============================] - 5s 120ms/step - loss: 0.0027\n",
            "Epoch 40/100\n",
            "38/38 [==============================] - 4s 95ms/step - loss: 0.0024\n",
            "Epoch 41/100\n",
            "38/38 [==============================] - 4s 92ms/step - loss: 0.0024\n",
            "Epoch 42/100\n",
            "38/38 [==============================] - 4s 107ms/step - loss: 0.0026\n",
            "Epoch 43/100\n",
            "38/38 [==============================] - 4s 101ms/step - loss: 0.0024\n",
            "Epoch 44/100\n",
            "38/38 [==============================] - 3s 92ms/step - loss: 0.0023\n",
            "Epoch 45/100\n",
            "38/38 [==============================] - 3s 92ms/step - loss: 0.0022\n",
            "Epoch 46/100\n",
            "38/38 [==============================] - 4s 117ms/step - loss: 0.0024\n",
            "Epoch 47/100\n",
            "38/38 [==============================] - 4s 93ms/step - loss: 0.0028\n",
            "Epoch 48/100\n",
            "38/38 [==============================] - 4s 94ms/step - loss: 0.0028\n",
            "Epoch 49/100\n",
            "38/38 [==============================] - 5s 120ms/step - loss: 0.0019\n",
            "Epoch 50/100\n",
            "38/38 [==============================] - 4s 95ms/step - loss: 0.0023\n",
            "Epoch 51/100\n",
            "38/38 [==============================] - 3s 92ms/step - loss: 0.0021\n",
            "Epoch 52/100\n",
            "38/38 [==============================] - 4s 109ms/step - loss: 0.0020\n",
            "Epoch 53/100\n",
            "38/38 [==============================] - 4s 99ms/step - loss: 0.0021\n",
            "Epoch 54/100\n",
            "38/38 [==============================] - 3s 91ms/step - loss: 0.0021\n",
            "Epoch 55/100\n",
            "38/38 [==============================] - 4s 93ms/step - loss: 0.0021\n",
            "Epoch 56/100\n",
            "38/38 [==============================] - 4s 118ms/step - loss: 0.0020\n",
            "Epoch 57/100\n",
            "38/38 [==============================] - 4s 93ms/step - loss: 0.0020\n",
            "Epoch 58/100\n",
            "38/38 [==============================] - 4s 95ms/step - loss: 0.0020\n",
            "Epoch 59/100\n",
            "38/38 [==============================] - 4s 117ms/step - loss: 0.0021\n",
            "Epoch 60/100\n",
            "38/38 [==============================] - 3s 92ms/step - loss: 0.0020\n",
            "Epoch 61/100\n",
            "38/38 [==============================] - 4s 92ms/step - loss: 0.0019\n",
            "Epoch 62/100\n",
            "38/38 [==============================] - 4s 108ms/step - loss: 0.0022\n",
            "Epoch 63/100\n",
            "38/38 [==============================] - 4s 101ms/step - loss: 0.0020\n",
            "Epoch 64/100\n",
            "38/38 [==============================] - 4s 92ms/step - loss: 0.0022\n",
            "Epoch 65/100\n",
            "38/38 [==============================] - 4s 93ms/step - loss: 0.0019\n",
            "Epoch 66/100\n",
            "38/38 [==============================] - 4s 117ms/step - loss: 0.0023\n",
            "Epoch 67/100\n",
            "38/38 [==============================] - 4s 94ms/step - loss: 0.0018\n",
            "Epoch 68/100\n",
            "38/38 [==============================] - 4s 93ms/step - loss: 0.0019\n",
            "Epoch 69/100\n",
            "38/38 [==============================] - 4s 118ms/step - loss: 0.0017\n",
            "Epoch 70/100\n",
            "38/38 [==============================] - 4s 94ms/step - loss: 0.0017\n",
            "Epoch 71/100\n",
            "38/38 [==============================] - 4s 95ms/step - loss: 0.0019\n",
            "Epoch 72/100\n",
            "38/38 [==============================] - 4s 107ms/step - loss: 0.0018\n",
            "Epoch 73/100\n",
            "38/38 [==============================] - 4s 98ms/step - loss: 0.0017\n",
            "Epoch 74/100\n",
            "38/38 [==============================] - 4s 93ms/step - loss: 0.0017\n",
            "Epoch 75/100\n",
            "38/38 [==============================] - 3s 92ms/step - loss: 0.0019\n",
            "Epoch 76/100\n",
            "38/38 [==============================] - 4s 116ms/step - loss: 0.0017\n",
            "Epoch 77/100\n",
            "38/38 [==============================] - 4s 92ms/step - loss: 0.0018\n",
            "Epoch 78/100\n",
            "38/38 [==============================] - 3s 92ms/step - loss: 0.0015\n",
            "Epoch 79/100\n",
            "38/38 [==============================] - 4s 117ms/step - loss: 0.0017\n",
            "Epoch 80/100\n",
            "38/38 [==============================] - 4s 92ms/step - loss: 0.0017\n",
            "Epoch 81/100\n",
            "38/38 [==============================] - 4s 92ms/step - loss: 0.0017\n",
            "Epoch 82/100\n",
            "38/38 [==============================] - 4s 105ms/step - loss: 0.0016\n",
            "Epoch 83/100\n",
            "38/38 [==============================] - 4s 103ms/step - loss: 0.0015\n",
            "Epoch 84/100\n",
            "38/38 [==============================] - 4s 93ms/step - loss: 0.0015\n",
            "Epoch 85/100\n",
            "38/38 [==============================] - 4s 93ms/step - loss: 0.0014\n",
            "Epoch 86/100\n",
            "38/38 [==============================] - 4s 116ms/step - loss: 0.0015\n",
            "Epoch 87/100\n",
            "38/38 [==============================] - 3s 92ms/step - loss: 0.0016\n",
            "Epoch 88/100\n",
            "38/38 [==============================] - 3s 91ms/step - loss: 0.0015\n",
            "Epoch 89/100\n",
            "38/38 [==============================] - 4s 116ms/step - loss: 0.0016\n",
            "Epoch 90/100\n",
            "38/38 [==============================] - 3s 92ms/step - loss: 0.0016\n",
            "Epoch 91/100\n",
            "38/38 [==============================] - 3s 90ms/step - loss: 0.0015\n",
            "Epoch 92/100\n",
            "38/38 [==============================] - 4s 100ms/step - loss: 0.0016\n",
            "Epoch 93/100\n",
            "38/38 [==============================] - 4s 109ms/step - loss: 0.0014\n",
            "Epoch 94/100\n",
            "38/38 [==============================] - 3s 92ms/step - loss: 0.0014\n",
            "Epoch 95/100\n",
            "38/38 [==============================] - 4s 93ms/step - loss: 0.0013\n",
            "Epoch 96/100\n",
            "38/38 [==============================] - 4s 118ms/step - loss: 0.0014\n",
            "Epoch 97/100\n",
            "38/38 [==============================] - 4s 93ms/step - loss: 0.0014\n",
            "Epoch 98/100\n",
            "38/38 [==============================] - 4s 94ms/step - loss: 0.0014\n",
            "Epoch 99/100\n",
            "38/38 [==============================] - 5s 120ms/step - loss: 0.0015\n",
            "Epoch 100/100\n",
            "38/38 [==============================] - 4s 95ms/step - loss: 0.0014\n"
          ]
        },
        {
          "output_type": "execute_result",
          "data": {
            "text/plain": [
              "<keras.src.callbacks.History at 0x79ba3b417220>"
            ]
          },
          "metadata": {},
          "execution_count": 34
        }
      ]
    },
    {
      "cell_type": "code",
      "source": [
        "dataset_test = pd.read_csv('Google_Stock_Price_Test.csv')\n",
        "real_stock_price = dataset_test.iloc[:, 1:2].values"
      ],
      "metadata": {
        "id": "6bnTkw5X6Jmv"
      },
      "execution_count": 35,
      "outputs": []
    },
    {
      "cell_type": "code",
      "source": [
        "dataset_total = pd.concat((train['Open'], dataset_test['Open']), axis = 0)\n",
        "inputs = dataset_total[len(dataset_total)- len(dataset_test) - 60:].values\n",
        "inputs = inputs.reshape(-1,1)\n",
        "inputs = sc.transform(inputs)\n",
        "X_test = []\n",
        "for i in range (60,80):\n",
        "  X_test.append(inputs[i-60:i, 0])\n",
        "X_test = np.array(X_test)\n",
        "X_test = np.reshape(X_test, (X_test.shape[0], X_test.shape[1], 1))\n",
        "predicted_stock_price = regressor.predict(X_test)\n",
        "predicted_stock_price = sc.inverse_transform(predicted_stock_price)"
      ],
      "metadata": {
        "colab": {
          "base_uri": "https://localhost:8080/"
        },
        "id": "rd-Da6ZJ6cto",
        "outputId": "a287a1b9-79f6-4993-f027-3de287cfc050"
      },
      "execution_count": 36,
      "outputs": [
        {
          "output_type": "stream",
          "name": "stdout",
          "text": [
            "1/1 [==============================] - 2s 2s/step\n"
          ]
        }
      ]
    },
    {
      "cell_type": "code",
      "source": [
        "plt.plot(real_stock_price, color = 'red', label = 'Real Google Stock Price')\n",
        "plt.plot(predicted_stock_price, color = 'blue', label = 'Predicted Google Stock Price')\n",
        "plt.title('Google Stock Price Prediction')\n",
        "plt.xlabel('Time')\n",
        "plt.ylabel('Google Stock Price')\n",
        "plt.legend()\n",
        "plt.show()"
      ],
      "metadata": {
        "colab": {
          "base_uri": "https://localhost:8080/",
          "height": 472
        },
        "id": "WSX6E-l19HA0",
        "outputId": "8f734d4c-e551-4adc-9e42-17c553a405b4"
      },
      "execution_count": 37,
      "outputs": [
        {
          "output_type": "display_data",
          "data": {
            "text/plain": [
              "<Figure size 640x480 with 1 Axes>"
            ],
            "image/png": "[encoded data removed]"
          },
          "metadata": {}
        }
      ]
    }
  ]
}