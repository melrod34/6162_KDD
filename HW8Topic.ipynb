{
  "nbformat": 4,
  "nbformat_minor": 0,
  "metadata": {
    "colab": {
      "provenance": []
    },
    "kernelspec": {
      "name": "python3",
      "display_name": "Python 3"
    },
    "language_info": {
      "name": "python"
    }
  },
  "cells": [
    {
      "cell_type": "code",
      "execution_count": null,
      "metadata": {
        "id": "Yc6g4Bxme-MD"
      },
      "outputs": [],
      "source": [
        "!pip install -U scipy==1.10.0 numpy==1.23.5"
      ]
    },
    {
      "cell_type": "code",
      "source": [
        "!pip install -U git+https://github.com/stephenhky/PyShortTextCategorization"
      ],
      "metadata": {
        "id": "jZ3baMeZfNc4"
      },
      "execution_count": null,
      "outputs": []
    },
    {
      "cell_type": "code",
      "source": [
        "!python -m spacy download en"
      ],
      "metadata": {
        "colab": {
          "base_uri": "https://localhost:8080/"
        },
        "id": "5sLcHj7bfPsF",
        "outputId": "b15eb45b-59f9-4741-c0d9-b2d49a074070"
      },
      "execution_count": 3,
      "outputs": [
        {
          "output_type": "stream",
          "name": "stdout",
          "text": [
            "\u001b[38;5;2m✔ Download and installation successful\u001b[0m\n",
            "You can now load the package via spacy.load('en_core_web_sm')\n",
            "\u001b[38;5;3m⚠ Restart to reload dependencies\u001b[0m\n",
            "If you are in a Jupyter or Colab notebook, you may need to restart Python in\n",
            "order to load all the package's dependencies. You can do this by selecting the\n",
            "'Restart kernel' or 'Restart runtime' option.\n"
          ]
        }
      ]
    },
    {
      "cell_type": "code",
      "source": [
        "import gensim\n",
        "import nltk\n",
        "from gensim.utils import simple_preprocess\n",
        "from gensim.parsing.preprocessing import STOPWORDS\n",
        "from nltk.stem import WordNetLemmatizer, SnowballStemmer\n",
        "from nltk.stem.porter import *\n",
        "import numpy as np\n",
        "from nltk.stem import*\n",
        "stemmer = PorterStemmer()"
      ],
      "metadata": {
        "id": "2zCcdzY6gdHV"
      },
      "execution_count": 4,
      "outputs": []
    },
    {
      "cell_type": "code",
      "source": [
        "from google.colab import drive\n",
        "drive.mount('/content/drive', force_remount=True)"
      ],
      "metadata": {
        "colab": {
          "base_uri": "https://localhost:8080/"
        },
        "id": "kfZ2A_IFfP1Q",
        "outputId": "fe5c318b-c789-46cf-847d-47863aad3046"
      },
      "execution_count": 5,
      "outputs": [
        {
          "output_type": "stream",
          "name": "stdout",
          "text": [
            "Mounted at /content/drive\n"
          ]
        }
      ]
    },
    {
      "cell_type": "code",
      "source": [
        "%cd /content/drive/My Drive/ColabData"
      ],
      "metadata": {
        "colab": {
          "base_uri": "https://localhost:8080/"
        },
        "id": "EZ6n5RxGfP5J",
        "outputId": "46f1fcce-3e22-41c6-dcf3-afa6fc3b8314"
      },
      "execution_count": 6,
      "outputs": [
        {
          "output_type": "stream",
          "name": "stdout",
          "text": [
            "/content/drive/My Drive/ColabData\n"
          ]
        }
      ]
    },
    {
      "cell_type": "code",
      "source": [
        "from nltk.corpus import PlaintextCorpusReader\n",
        "corpus_root = 'MovieReviews' # Folder Name\n",
        "filelists = PlaintextCorpusReader(corpus_root, '.*',encoding='latin-1')  # wildcard is read all files in the folder\n",
        "filelists.fileids()  # Get the filenames"
      ],
      "metadata": {
        "id": "xBMDbm0_viZQ"
      },
      "execution_count": null,
      "outputs": []
    },
    {
      "cell_type": "code",
      "source": [
        "import os\n",
        "import pandas as pd\n",
        "from sklearn.feature_extraction.text import CountVectorizer\n",
        "from sklearn.decomposition import LatentDirichletAllocation\n",
        "\n",
        "# Function to read text files from a directory\n",
        "def read_files_from_directory(directory, encoding='utf-8'):\n",
        "    file_texts = []\n",
        "    file_names = []\n",
        "    for filename in os.listdir(directory):\n",
        "        if filename.endswith(\".txt\"):\n",
        "            with open(os.path.join(directory, filename), 'r', encoding=encoding) as file:\n",
        "                file_names.append(filename)\n",
        "                file_texts.append(file.read())\n",
        "    return file_names, file_texts\n",
        "\n",
        "# Read text files from the directory\n",
        "directory = '/content/drive/My Drive/ColabData/MovieReviews'  # Update with your directory path\n",
        "file_names, file_texts = read_files_from_directory(directory, encoding='latin-1')\n",
        "\n",
        "# Create a DataFrame\n",
        "data = {'File_Name': file_names, 'Text': file_texts}\n",
        "df = pd.DataFrame(data)\n",
        "df.head()\n"
      ],
      "metadata": {
        "id": "Op3X1w5go_Ez",
        "outputId": "ce966ca7-d813-4658-9f0d-b7cb126cb3b7",
        "colab": {
          "base_uri": "https://localhost:8080/",
          "height": 206
        }
      },
      "execution_count": 25,
      "outputs": [
        {
          "output_type": "execute_result",
          "data": {
            "text/plain": [
              "   File_Name                                               Text\n",
              "0  17144.txt  WHITE BALLOON, THE (director: Jafar Panahi; ca...\n",
              "1  17111.txt  WAKING NED DEVINE (director: Kirk Jones (III);...\n",
              "2  17255.txt  SHE'S SO LOVELY (director: Nick Cassavetes; ca...\n",
              "3  17185.txt  JUNK MAIL (director: Pal Sletaune; cast: Rober...\n",
              "4  17109.txt  NOSTALGHIA (director: Andrei Tarkovsky; cast: ..."
            ],
            "text/html": [
              "\n",
              "  <div id=\"df-40a88fcd-1d92-413c-ab3d-4c692e52a37e\" class=\"colab-df-container\">\n",
              "    <div>\n",
              "<style scoped>\n",
              "    .dataframe tbody tr th:only-of-type {\n",
              "        vertical-align: middle;\n",
              "    }\n",
              "\n",
              "    .dataframe tbody tr th {\n",
              "        vertical-align: top;\n",
              "    }\n",
              "\n",
              "    .dataframe thead th {\n",
              "        text-align: right;\n",
              "    }\n",
              "</style>\n",
              "<table border=\"1\" class=\"dataframe\">\n",
              "  <thead>\n",
              "    <tr style=\"text-align: right;\">\n",
              "      <th></th>\n",
              "      <th>File_Name</th>\n",
              "      <th>Text</th>\n",
              "    </tr>\n",
              "  </thead>\n",
              "  <tbody>\n",
              "    <tr>\n",
              "      <th>0</th>\n",
              "      <td>17144.txt</td>\n",
              "      <td>WHITE BALLOON, THE (director: Jafar Panahi; ca...</td>\n",
              "    </tr>\n",
              "    <tr>\n",
              "      <th>1</th>\n",
              "      <td>17111.txt</td>\n",
              "      <td>WAKING NED DEVINE (director: Kirk Jones (III);...</td>\n",
              "    </tr>\n",
              "    <tr>\n",
              "      <th>2</th>\n",
              "      <td>17255.txt</td>\n",
              "      <td>SHE'S SO LOVELY (director: Nick Cassavetes; ca...</td>\n",
              "    </tr>\n",
              "    <tr>\n",
              "      <th>3</th>\n",
              "      <td>17185.txt</td>\n",
              "      <td>JUNK MAIL (director: Pal Sletaune; cast: Rober...</td>\n",
              "    </tr>\n",
              "    <tr>\n",
              "      <th>4</th>\n",
              "      <td>17109.txt</td>\n",
              "      <td>NOSTALGHIA (director: Andrei Tarkovsky; cast: ...</td>\n",
              "    </tr>\n",
              "  </tbody>\n",
              "</table>\n",
              "</div>\n",
              "    <div class=\"colab-df-buttons\">\n",
              "\n",
              "  <div class=\"colab-df-container\">\n",
              "    <button class=\"colab-df-convert\" onclick=\"convertToInteractive('df-40a88fcd-1d92-413c-ab3d-4c692e52a37e')\"\n",
              "            title=\"Convert this dataframe to an interactive table.\"\n",
              "            style=\"display:none;\">\n",
              "\n",
              "  <svg xmlns=\"http://www.w3.org/2000/svg\" height=\"24px\" viewBox=\"0 -960 960 960\">\n",
              "    <path d=\"M120-120v-720h720v720H120Zm60-500h600v-160H180v160Zm220 220h160v-160H400v160Zm0 220h160v-160H400v160ZM180-400h160v-160H180v160Zm440 0h160v-160H620v160ZM180-180h160v-160H180v160Zm440 0h160v-160H620v160Z\"/>\n",
              "  </svg>\n",
              "    </button>\n",
              "\n",
              "  <style>\n",
              "    .colab-df-container {\n",
              "      display:flex;\n",
              "      gap: 12px;\n",
              "    }\n",
              "\n",
              "    .colab-df-convert {\n",
              "      background-color: #E8F0FE;\n",
              "      border: none;\n",
              "      border-radius: 50%;\n",
              "      cursor: pointer;\n",
              "      display: none;\n",
              "      fill: #1967D2;\n",
              "      height: 32px;\n",
              "      padding: 0 0 0 0;\n",
              "      width: 32px;\n",
              "    }\n",
              "\n",
              "    .colab-df-convert:hover {\n",
              "      background-color: #E2EBFA;\n",
              "      box-shadow: 0px 1px 2px rgba(60, 64, 67, 0.3), 0px 1px 3px 1px rgba(60, 64, 67, 0.15);\n",
              "      fill: #174EA6;\n",
              "    }\n",
              "\n",
              "    .colab-df-buttons div {\n",
              "      margin-bottom: 4px;\n",
              "    }\n",
              "\n",
              "    [theme=dark] .colab-df-convert {\n",
              "      background-color: #3B4455;\n",
              "      fill: #D2E3FC;\n",
              "    }\n",
              "\n",
              "    [theme=dark] .colab-df-convert:hover {\n",
              "      background-color: #434B5C;\n",
              "      box-shadow: 0px 1px 3px 1px rgba(0, 0, 0, 0.15);\n",
              "      filter: drop-shadow(0px 1px 2px rgba(0, 0, 0, 0.3));\n",
              "      fill: #FFFFFF;\n",
              "    }\n",
              "  </style>\n",
              "\n",
              "    <script>\n",
              "      const buttonEl =\n",
              "        document.querySelector('#df-40a88fcd-1d92-413c-ab3d-4c692e52a37e button.colab-df-convert');\n",
              "      buttonEl.style.display =\n",
              "        google.colab.kernel.accessAllowed ? 'block' : 'none';\n",
              "\n",
              "      async function convertToInteractive(key) {\n",
              "        const element = document.querySelector('#df-40a88fcd-1d92-413c-ab3d-4c692e52a37e');\n",
              "        const dataTable =\n",
              "          await google.colab.kernel.invokeFunction('convertToInteractive',\n",
              "                                                    [key], {});\n",
              "        if (!dataTable) return;\n",
              "\n",
              "        const docLinkHtml = 'Like what you see? Visit the ' +\n",
              "          '<a target=\"_blank\" href=https://colab.research.google.com/notebooks/data_table.ipynb>data table notebook</a>'\n",
              "          + ' to learn more about interactive tables.';\n",
              "        element.innerHTML = '';\n",
              "        dataTable['output_type'] = 'display_data';\n",
              "        await google.colab.output.renderOutput(dataTable, element);\n",
              "        const docLink = document.createElement('div');\n",
              "        docLink.innerHTML = docLinkHtml;\n",
              "        element.appendChild(docLink);\n",
              "      }\n",
              "    </script>\n",
              "  </div>\n",
              "\n",
              "\n",
              "<div id=\"df-9524cb4e-432c-42d9-9890-672ca15e61f0\">\n",
              "  <button class=\"colab-df-quickchart\" onclick=\"quickchart('df-9524cb4e-432c-42d9-9890-672ca15e61f0')\"\n",
              "            title=\"Suggest charts\"\n",
              "            style=\"display:none;\">\n",
              "\n",
              "<svg xmlns=\"http://www.w3.org/2000/svg\" height=\"24px\"viewBox=\"0 0 24 24\"\n",
              "     width=\"24px\">\n",
              "    <g>\n",
              "        <path d=\"M19 3H5c-1.1 0-2 .9-2 2v14c0 1.1.9 2 2 2h14c1.1 0 2-.9 2-2V5c0-1.1-.9-2-2-2zM9 17H7v-7h2v7zm4 0h-2V7h2v10zm4 0h-2v-4h2v4z\"/>\n",
              "    </g>\n",
              "</svg>\n",
              "  </button>\n",
              "\n",
              "<style>\n",
              "  .colab-df-quickchart {\n",
              "      --bg-color: #E8F0FE;\n",
              "      --fill-color: #1967D2;\n",
              "      --hover-bg-color: #E2EBFA;\n",
              "      --hover-fill-color: #174EA6;\n",
              "      --disabled-fill-color: #AAA;\n",
              "      --disabled-bg-color: #DDD;\n",
              "  }\n",
              "\n",
              "  [theme=dark] .colab-df-quickchart {\n",
              "      --bg-color: #3B4455;\n",
              "      --fill-color: #D2E3FC;\n",
              "      --hover-bg-color: #434B5C;\n",
              "      --hover-fill-color: #FFFFFF;\n",
              "      --disabled-bg-color: #3B4455;\n",
              "      --disabled-fill-color: #666;\n",
              "  }\n",
              "\n",
              "  .colab-df-quickchart {\n",
              "    background-color: var(--bg-color);\n",
              "    border: none;\n",
              "    border-radius: 50%;\n",
              "    cursor: pointer;\n",
              "    display: none;\n",
              "    fill: var(--fill-color);\n",
              "    height: 32px;\n",
              "    padding: 0;\n",
              "    width: 32px;\n",
              "  }\n",
              "\n",
              "  .colab-df-quickchart:hover {\n",
              "    background-color: var(--hover-bg-color);\n",
              "    box-shadow: 0 1px 2px rgba(60, 64, 67, 0.3), 0 1px 3px 1px rgba(60, 64, 67, 0.15);\n",
              "    fill: var(--button-hover-fill-color);\n",
              "  }\n",
              "\n",
              "  .colab-df-quickchart-complete:disabled,\n",
              "  .colab-df-quickchart-complete:disabled:hover {\n",
              "    background-color: var(--disabled-bg-color);\n",
              "    fill: var(--disabled-fill-color);\n",
              "    box-shadow: none;\n",
              "  }\n",
              "\n",
              "  .colab-df-spinner {\n",
              "    border: 2px solid var(--fill-color);\n",
              "    border-color: transparent;\n",
              "    border-bottom-color: var(--fill-color);\n",
              "    animation:\n",
              "      spin 1s steps(1) infinite;\n",
              "  }\n",
              "\n",
              "  @keyframes spin {\n",
              "    0% {\n",
              "      border-color: transparent;\n",
              "      border-bottom-color: var(--fill-color);\n",
              "      border-left-color: var(--fill-color);\n",
              "    }\n",
              "    20% {\n",
              "      border-color: transparent;\n",
              "      border-left-color: var(--fill-color);\n",
              "      border-top-color: var(--fill-color);\n",
              "    }\n",
              "    30% {\n",
              "      border-color: transparent;\n",
              "      border-left-color: var(--fill-color);\n",
              "      border-top-color: var(--fill-color);\n",
              "      border-right-color: var(--fill-color);\n",
              "    }\n",
              "    40% {\n",
              "      border-color: transparent;\n",
              "      border-right-color: var(--fill-color);\n",
              "      border-top-color: var(--fill-color);\n",
              "    }\n",
              "    60% {\n",
              "      border-color: transparent;\n",
              "      border-right-color: var(--fill-color);\n",
              "    }\n",
              "    80% {\n",
              "      border-color: transparent;\n",
              "      border-right-color: var(--fill-color);\n",
              "      border-bottom-color: var(--fill-color);\n",
              "    }\n",
              "    90% {\n",
              "      border-color: transparent;\n",
              "      border-bottom-color: var(--fill-color);\n",
              "    }\n",
              "  }\n",
              "</style>\n",
              "\n",
              "  <script>\n",
              "    async function quickchart(key) {\n",
              "      const quickchartButtonEl =\n",
              "        document.querySelector('#' + key + ' button');\n",
              "      quickchartButtonEl.disabled = true;  // To prevent multiple clicks.\n",
              "      quickchartButtonEl.classList.add('colab-df-spinner');\n",
              "      try {\n",
              "        const charts = await google.colab.kernel.invokeFunction(\n",
              "            'suggestCharts', [key], {});\n",
              "      } catch (error) {\n",
              "        console.error('Error during call to suggestCharts:', error);\n",
              "      }\n",
              "      quickchartButtonEl.classList.remove('colab-df-spinner');\n",
              "      quickchartButtonEl.classList.add('colab-df-quickchart-complete');\n",
              "    }\n",
              "    (() => {\n",
              "      let quickchartButtonEl =\n",
              "        document.querySelector('#df-9524cb4e-432c-42d9-9890-672ca15e61f0 button');\n",
              "      quickchartButtonEl.style.display =\n",
              "        google.colab.kernel.accessAllowed ? 'block' : 'none';\n",
              "    })();\n",
              "  </script>\n",
              "</div>\n",
              "    </div>\n",
              "  </div>\n"
            ],
            "application/vnd.google.colaboratory.intrinsic+json": {
              "type": "dataframe",
              "variable_name": "df",
              "summary": "{\n  \"name\": \"df\",\n  \"rows\": 180,\n  \"fields\": [\n    {\n      \"column\": \"File_Name\",\n      \"properties\": {\n        \"dtype\": \"string\",\n        \"num_unique_values\": 180,\n        \"samples\": [\n          \"17117.txt\",\n          \"17761.txt\",\n          \"1994.txt\"\n        ],\n        \"semantic_type\": \"\",\n        \"description\": \"\"\n      }\n    },\n    {\n      \"column\": \"Text\",\n      \"properties\": {\n        \"dtype\": \"string\",\n        \"num_unique_values\": 179,\n        \"samples\": [\n          \"LE CERCLE ROUGE (director: Jean-Pierre Melville; cast: Alain Delon (Corey), Gian Maria Volont\\u00e9 (Vogel), Yves Montand (Jansen), Andr\\u00e9 Bourvil (Mattei), Fran\\u00e7ois P\\u00e9rier (Santi), Andr\\u00e9 Ekyan (Rico), 1970-France)\\nThis is a noir film, one of the last one's shot that can truly emulate the spirit of the one's shot in the heyday of American noir, in the 40s and the 50s. Melville shoots in a dark color tone, that sets the dire mood of the violent story about a prison escape, a heist, a double-cross, and the untrustworthy nature of people. Melville wanted to make a French version of John Huston's noir classic, THE ASPHALT JUNGLE (50), as Melville imbued in his film his strong beliefs about what a gangster picture should look like, making it original while covering all the subplots of that genre he could manage to fit into a film that runs for 150 minutes. This is a transitional film, as it makes way for a new wave of crime films to follow, one's that will reflect the changing mores of society and the changes within the criminal code that the new decade brings with it.\\nCorey (Delon) is a steely-eyed hood, who is being released from prison tomorrow, when he breaks into the cell of another prisoner, Vogel (Volont\\u00e9), to tell him that he can arrange to help him escape tomorrow if he agrees to join him in a heist he has planned. Vogel escapes from a moving train, as a massive police hunt is on the way for his capture, led by the fair-haired Corsican, Superintendent Mattei (Bourvil), who is quite an interesting character, as well as being a cat-lover, whose boss, the police commissioner, while pressing him to do everything possible to get Vogel, lectures him that every man is guilty, something that slowly sinks into Mattei's consciousness as his investigation broadens.\\nWhile the escape is taking place, Corey goes back to Marseilles to get money from his crime boss Rico (Ekyan), who tries to put him off, so Corey robs him, causing Rico to send a couple of his gang members after him, who end up getting shot by Vogel, who by this time has joined Corey in the car he just bought with Rico's money. The intense action scenes amidst the changing weather from rain to snow, plus the wooded area and the roadblocks the men must cross to get back to Paris, gives the film an air of resolute desperation, that is intriguing to watch, as each camera shot is done by the hands of a master, reaching far into his characters and their surroundings.\\nTo help with the jewel heist,Vogel suggests a friend of his, a former police marksman who cracked up from the pressure of the job, Jansen (Yves), who is first seen having a nightmare that bugs are attacking him, that is very movingly shot, and is framed like it is a painting on canvas by one of the master's of horror painting, someone like a Francis Bacon. Bunuel has very effectively used surreal shots like this in some of his films.\\nThe heist of the Place Vendome is excuted in silence for the 30- odd minutes it takes to pull off the job. There are five men involved in this jewel heist, these three plus a tip-off man and the fence. But when the robbery is completed, the fence backs out because he is pressured to by a local gangster, Santi (P\\u00e9rier), who is a nightclub owner and pimp, and a one time informant for Mattei, who leans heavily on him to cooperate in this case. For Mattei, there is no such thing as police without informers. This relationship made in hell, makes no one an innocent.\\nThe film's conclusion is as violent as it has to be, since the mood was set from the film's onset to end this way. By this time, we know all the character's rather well, as we see who turns on the other, and how hypertense a policeman's job is, with not that much sanity separating his job from the criminal's.\\nThis is a top notch noir film. It has done an outstanding job in uncovering the themes of alienation and desperation, that drive men so hard that it is impossible for them to transcend their criminal nature.\\nREVIEWED ON 4/27/99\\nDennis Schwartz: \\\" Ozus World Movie Reviews\\\"\\n\\u00a9 ALL RIGHTS RESERVED DENNIS SCHWARTZ\\n\",\n          \"MEN WITH GUNS (director: John Sayles; cast: Federico Luppi, Dan Rivera Gonzalez, Damian Delgado, Tania Cruz, Damian Alcazar, Mandy Patinkin, Kathryn Grody, 1998 Mexico)\\nThe world is a hard place, is the theme that runs through Sayles' well thought-out, political film about a capable upper-class, but naive doctor from the city of some hypothetical Latin American country. The part of the doctor is played by the distinguished looking, white-haired Argentinean, Luppi. The doctor has trained some students to be doctors in the remote mountainous areas where the Indians live, under the auspicies of a specially funded program. He hasn't heard from them since they left, and is now anxious to visit them on his vacation and see how they are doing before he retires. He takes his fancy 4-wheeler and makes the difficult trek to this impoverished region in order to see what his legacy will be. He is concerned about leaving a legacy before he dies. He is filled with pride about his accomplishments, but this pride turns to agony as he slowly realizes that all the doctors he has trained have been assassinated and that he has sent them to their deaths by not preparing them for the realities of their job.\\nOn his journey to find the political truth, the doctor picks up some travelling companions, who in turn add their tales of woe to the horrors of living in such a bad political climate. From the orphan boy (Dan), he meets in the starving Indian village, he learns how little the people have, how ruthless both the army (which is made up of mostly Indian soldiers) and the guerillas are. These are the men with guns, they will kill anyone, whether they have a reason to or not. The white plantation owners are the exploiters of the people, keeping them working at unreasonably low wages.\\nThe boy turns out to be useful to the doctor because he speaks the native language and he knows how to find his way in spots where there are no visible roads. The army deserter (Delgado), robs the doctor and then kidnaps him, and through the use of flashbacks we see how he participated as a medic in the army in violence and murder of the villagers.\\nA priest hitches a ride and tells his story of losing faith while working with the villagers, and no longer considers himself a priest. He does not see what good religion can do in such a repressive area, as the doctor questions him and states that a person must believe in something.\\nAnd finally a mute young lady, who has been raped by the soldiers and subsequently has stopped speaking, comes along with them hoping to find a secure place to live.\\nA talkative American couple (Mandy and Kathryn), interested in the ancient civilization of this country, but unable to comprehend what is going down for the current Indians living here, strike a chord for all those who should see what is taking place but can't, and this is because they can't face what is right in front of them; but, because they are living charmed lives, they will return to their country unscathed by all the atrocities around them.\\nThe doctor is the eyes and ears for what is going on. His slow but steady transformation into political awareness is the most reassuring omen sent out in this non-didactic, straight forward ambitious project of Sayles. He does not glorify the Indians, the ones who are the most cruelly treated. He shows how unopen and hostile they can be to visitors, and how when given a chance to get a better life they will do anything to escape, even kill their own people. The strength that comes from such a story, is in the telling of it and the powerful images presented. The problem with all this, is that since no specific country was named, it must mean that Sayles considers this to be a universal problem, and that makes the problem gigantic, with no one to be specifically blamed, especially since these kind of human abuses have been going on for ages, it becomes difficult to zero in on what can be done to prevent such happenings. The other problem is that one can get the feeling that there reaches a point where one feels he is being manipulated, that there is so little that can be done by individuals alone, that governments have to be held accountable for their actions, and people have to be aware of what their governments are doing, even if, most of all, people have to learn how to help themselves.\\nThis is a very strong, independent minded picture, that chooses to tell a very difficult story, one that not many people will take comfort in. But the question arises as to how the message of such despair will get out to people who are so far removed from that isolated part of the world. It seems that this film might have some influence, but there is little that individuals who are not from that region can do, as proof we have just to look at the terrors faced by those in this film who tried to help.\\nREVIEWED ON 10/6/98\\nDennis Schwartz: Movie Reviews ozus @sover.net\\nALL RIGHTS RESERVED DENNIS SCHWARTZ \\u00a9\\n\",\n          \"COOKIE'S FORTUNE (director: Robert Altman; cast: Glenn Close (Camille Dixon), Julianne Moore (Cora Duvall), Liv Tyler (Emma Duvall), Chris O'Donnell (Jason Brown), Charles S. Dutton (Willis Richland), Patricia Neal (Jewel Mae \\\"Cookie\\\" Orcutt), Ned Beatty (Lester Boyle), Courtney B. Vance (Otis Tucker), Donald Moffat (Jack Palmer), Lyle Lovett (Manny Hood), Ruby Wilson (Josie Martin), Danny Darst (Billy), Matt Malloy (Eddie, the expert), 1999)\\nWhen I look at the deep south, the first thing that comes to my mind is their history of racial problems. In the sleepy town of Hollis Springs, Mississippi, much of the town is registered as a landmark in historical memories, as Altman gently moves his camera across the various personalities who live there, it is as if each one is an archetype specially depicted for this comic/drama story, and the town stands out in the background as a reminder of the past.\\nFirstly, we look in on the local police, the dreaded bigots from the days of segregation, as we see them appear as forbearing as they always do, as they leave their stationhouse before going on patrol, but we will see later on that this is an integrated force now and a more amiable one, then the camera takes us to a black bar, where we hear the rich sounds of the blues being belted out in the wee morning hours, by a sultry Josie (Ruby), and then we switch over to the white folks, putting on a rehearsal for an Oscar Wilde Easter play about John the Baptist, at the Presbyterian Church, with the drama being directed by the intractably arrogant Camille (Close), with her not too talented younger sister Cora (Moore), being unduly manipulated by her, as she is being coached for her lead role of Salome. These two scenes contrast how the blacks and whites of Hollis Springs spend their evenings.\\nNext, we follow Willis (Dutton), who is the soul of this film, standing for trust and reconciliation with the past, as he drunkingly walks out of the black bar and heads across town, passing a van with the sleeping Emma (Liv) inside, who just returned from leaving town over something that frustrated her, but is back now working for Manny (Lyle), gutting catfish, his love for her being a one way street, as he acts like a Peeping Tom, hovering around her van. Finally, we see Willis break into the house of an old rich white lady, Cookie (played with charm and crackling wit by veteran actress Patricia Neal, who rarely makes a film appearance anymore), but it turns out these two are the best of friends, and he only came by to clean her guns at one in the morning, since he promised her he would do it that evening, as he looks after her ever since her husband Buck died a few years ago; and, he also wants to tell her that her daughter (Emma) is back in town. We will later on learn, as it is one of the town's well-kept secrets, that she is actually the 18-year-old daughter of Cora.\\nWhat Altman has done, is paint a picture of the town, full of local flavor, trying to test us to see if we guessed right at what our first impressions of the locals was, as those of us who have not kept up with the changes in the south or have not been brought up there, might view things from an outdated way of seeing the new south, thinking the worst of them, but now surprised to find that the only thing that has not changed about our perceptions of the south, is how dull witted some of them can still be.\\nAltman's other aims are to uncover all the town's little nasty secrets that is so easily hidden by its southern hospitality and history of racism. Though, the tone of Altman's film is always light and never very haunting. This is one of his mild films, he doesn't penetrate deeper than the story itself takes us, even if it is tightly directed, with no visible flaws in the storyline and the film's purpose, everything about it turns out to be as pleasing as the smell of magnolias in the spring, and thereby we are cheated into seeing something that could have been most revealing, instead we are offered something that is really too bland and simplistic for its own good, even if it is a satisfying film, it is still most easily categorized into the \\\"feel good\\\" type of mold, something Altman might have winced at in his heyday of filmmaking in the 70s.\\nThe climactic scene revolves around Cookie's desire to join her husband in the afterworld, since life has no meaning for her without him, as she is only living for her memories of him, therefore she shoots herself, leaving a suicide note for Willis, but unfortunately her diabolical Aunt Camille, who comes over for a fruit bowl, finds her body and eats the suicide note while stealing worthless trinkets from the house, and then telling Cora, that this wasn't a suicide, only insane people kill themselves, and no one in our family is insane, as she takes the gun out of Cookie's hand and throws it into a flower bed, and has Cora call the police, while reminding her to tell them it was a robbery and murder, supposedly covering up the suicide to protect their cherished family name.\\nUnfortunately, the good-hearted Willis becomes a suspect because his fingerprints are all over the house and on all the guns. What is comical or tragic, depending on what kind of a sense of humor you have, is watching how the crime scene is being trampled on, and the murder investigation done in such an amateurish way, that the investigators of the little Jon Benet Ramsey murder in Boulder, Colorado, would look like Scotland Yard investigators in comparison to this sheriff's department.\\nThere is a love story played out by Emma and Jason (Chris), who is the junior member of the police department. Their romance is a series of lustful encounters, that is mostly comical, as it adds to the story, by giving it a more local flavoring.\\nAs far as the police go, they don't think Willis did it, but they hold him in an unlocked cell and play scrabble with him, while he puts all his trust in them to uncover the truth. Now this is as far a cry from the old Mississippi, as one can imagine, though there are still some lingering subtle racial prejudices around. But the best argument given for why Willis couldn't have done the crime, is given by the sheriff, Lester (Ned), who says, \\\" Because I went Fishing with him.\\\" Which, I guess, could best be understood as a very logical statement by those who were brought up in a small-town.\\nThe film ends on Cora's spiteful comment to her sister, as she sticks to the story her controlling sister gave her, that it wasn't a suicide, as she triumphantly exclaims, \\\" I did good, didn't I ?\\\"\\nThe film's decency shines through all the past racial injustices, and maybe things are getting better in the south, at least that is the message we are left with, and I see no reason to be of a different opinion. But that last framed shot of the sheriff and Emma and the lawyer and Willis sitting on the dock fishing was a little too rosy a picture for me to take in all at once.\\nCookie's Fortune turns out to be in the unlocking of the past by the revelation about heritage and parenthood for the family members of Cookie Orcutt. Trying to come to terms with the past is something the south, as well as the rest of the country, is still hopefully working on. Race relations might be the biggest problem Americans are still faced with, and finding a cordial way out of it is the aim of a lot of good folks. The weakness of this film, is that its over-all decency is not moving enough of an experience to make this anything but a mildly entertaining film, that captured a little something about the south's past and future, and made us feel a little better that we saw it, but did not set off any bigger sparks, or really create any excitement about the town or its inhabitants that is worth taking note of.\\nREVIEWED ON 5/1/99\\nDennis Schwartz: \\\"Ozus' World Movie Reviews\\\"\\n\\u00a9 ALL RIGHTS RESERVED DENNIS SCHWARTZ\\n\"\n        ],\n        \"semantic_type\": \"\",\n        \"description\": \"\"\n      }\n    }\n  ]\n}"
            }
          },
          "metadata": {},
          "execution_count": 25
        }
      ]
    },
    {
      "cell_type": "code",
      "source": [
        "data_sample = df[df['File_Name'] == '17255.txt']\n",
        "data_sample"
      ],
      "metadata": {
        "id": "Zbju8U9YAfEg",
        "outputId": "b8455871-e329-49f9-8dca-21ef5b354a6f",
        "colab": {
          "base_uri": "https://localhost:8080/",
          "height": 81
        }
      },
      "execution_count": 32,
      "outputs": [
        {
          "output_type": "execute_result",
          "data": {
            "text/plain": [
              "   File_Name                                               Text\n",
              "2  17255.txt  SHE'S SO LOVELY (director: Nick Cassavetes; ca..."
            ],
            "text/html": [
              "\n",
              "  <div id=\"df-10e8dc7f-3ded-4456-835e-f01a45dc3f68\" class=\"colab-df-container\">\n",
              "    <div>\n",
              "<style scoped>\n",
              "    .dataframe tbody tr th:only-of-type {\n",
              "        vertical-align: middle;\n",
              "    }\n",
              "\n",
              "    .dataframe tbody tr th {\n",
              "        vertical-align: top;\n",
              "    }\n",
              "\n",
              "    .dataframe thead th {\n",
              "        text-align: right;\n",
              "    }\n",
              "</style>\n",
              "<table border=\"1\" class=\"dataframe\">\n",
              "  <thead>\n",
              "    <tr style=\"text-align: right;\">\n",
              "      <th></th>\n",
              "      <th>File_Name</th>\n",
              "      <th>Text</th>\n",
              "    </tr>\n",
              "  </thead>\n",
              "  <tbody>\n",
              "    <tr>\n",
              "      <th>2</th>\n",
              "      <td>17255.txt</td>\n",
              "      <td>SHE'S SO LOVELY (director: Nick Cassavetes; ca...</td>\n",
              "    </tr>\n",
              "  </tbody>\n",
              "</table>\n",
              "</div>\n",
              "    <div class=\"colab-df-buttons\">\n",
              "\n",
              "  <div class=\"colab-df-container\">\n",
              "    <button class=\"colab-df-convert\" onclick=\"convertToInteractive('df-10e8dc7f-3ded-4456-835e-f01a45dc3f68')\"\n",
              "            title=\"Convert this dataframe to an interactive table.\"\n",
              "            style=\"display:none;\">\n",
              "\n",
              "  <svg xmlns=\"http://www.w3.org/2000/svg\" height=\"24px\" viewBox=\"0 -960 960 960\">\n",
              "    <path d=\"M120-120v-720h720v720H120Zm60-500h600v-160H180v160Zm220 220h160v-160H400v160Zm0 220h160v-160H400v160ZM180-400h160v-160H180v160Zm440 0h160v-160H620v160ZM180-180h160v-160H180v160Zm440 0h160v-160H620v160Z\"/>\n",
              "  </svg>\n",
              "    </button>\n",
              "\n",
              "  <style>\n",
              "    .colab-df-container {\n",
              "      display:flex;\n",
              "      gap: 12px;\n",
              "    }\n",
              "\n",
              "    .colab-df-convert {\n",
              "      background-color: #E8F0FE;\n",
              "      border: none;\n",
              "      border-radius: 50%;\n",
              "      cursor: pointer;\n",
              "      display: none;\n",
              "      fill: #1967D2;\n",
              "      height: 32px;\n",
              "      padding: 0 0 0 0;\n",
              "      width: 32px;\n",
              "    }\n",
              "\n",
              "    .colab-df-convert:hover {\n",
              "      background-color: #E2EBFA;\n",
              "      box-shadow: 0px 1px 2px rgba(60, 64, 67, 0.3), 0px 1px 3px 1px rgba(60, 64, 67, 0.15);\n",
              "      fill: #174EA6;\n",
              "    }\n",
              "\n",
              "    .colab-df-buttons div {\n",
              "      margin-bottom: 4px;\n",
              "    }\n",
              "\n",
              "    [theme=dark] .colab-df-convert {\n",
              "      background-color: #3B4455;\n",
              "      fill: #D2E3FC;\n",
              "    }\n",
              "\n",
              "    [theme=dark] .colab-df-convert:hover {\n",
              "      background-color: #434B5C;\n",
              "      box-shadow: 0px 1px 3px 1px rgba(0, 0, 0, 0.15);\n",
              "      filter: drop-shadow(0px 1px 2px rgba(0, 0, 0, 0.3));\n",
              "      fill: #FFFFFF;\n",
              "    }\n",
              "  </style>\n",
              "\n",
              "    <script>\n",
              "      const buttonEl =\n",
              "        document.querySelector('#df-10e8dc7f-3ded-4456-835e-f01a45dc3f68 button.colab-df-convert');\n",
              "      buttonEl.style.display =\n",
              "        google.colab.kernel.accessAllowed ? 'block' : 'none';\n",
              "\n",
              "      async function convertToInteractive(key) {\n",
              "        const element = document.querySelector('#df-10e8dc7f-3ded-4456-835e-f01a45dc3f68');\n",
              "        const dataTable =\n",
              "          await google.colab.kernel.invokeFunction('convertToInteractive',\n",
              "                                                    [key], {});\n",
              "        if (!dataTable) return;\n",
              "\n",
              "        const docLinkHtml = 'Like what you see? Visit the ' +\n",
              "          '<a target=\"_blank\" href=https://colab.research.google.com/notebooks/data_table.ipynb>data table notebook</a>'\n",
              "          + ' to learn more about interactive tables.';\n",
              "        element.innerHTML = '';\n",
              "        dataTable['output_type'] = 'display_data';\n",
              "        await google.colab.output.renderOutput(dataTable, element);\n",
              "        const docLink = document.createElement('div');\n",
              "        docLink.innerHTML = docLinkHtml;\n",
              "        element.appendChild(docLink);\n",
              "      }\n",
              "    </script>\n",
              "  </div>\n",
              "\n",
              "    </div>\n",
              "  </div>\n"
            ],
            "application/vnd.google.colaboratory.intrinsic+json": {
              "type": "dataframe",
              "variable_name": "data_sample",
              "summary": "{\n  \"name\": \"data_sample\",\n  \"rows\": 1,\n  \"fields\": [\n    {\n      \"column\": \"File_Name\",\n      \"properties\": {\n        \"dtype\": \"string\",\n        \"num_unique_values\": 1,\n        \"samples\": [\n          \"17255.txt\"\n        ],\n        \"semantic_type\": \"\",\n        \"description\": \"\"\n      }\n    },\n    {\n      \"column\": \"Text\",\n      \"properties\": {\n        \"dtype\": \"string\",\n        \"num_unique_values\": 1,\n        \"samples\": [\n          \"SHE'S SO LOVELY (director: Nick Cassavetes; cast: Sean Penn (Eddie), Robin Wright Penn (Maureen), John Travolta (Joey), Harry Dean Stanton (Tony 'Shorty' Russo), Debi Mazar (Georgie), Gena Rowlands (Mrs. Green), James Gandolfini (Kiefer, the neighbor), Susan Traylor (Lucinda), Kelsey Mulrooney (Jennie,Eddie's daughter), 1997)\\nWe have to wait until the near end of this love triangle, a bleak drama about lowlife angst, to hear the words of the Cole Porter tune, of which this film takes its title from, spoken by Eddie (Sean) to Joey (Travolta), \\\"She doesn't love you. She doesn't love me. She's...delovely.\\\" But even these words don't make sense, as we find out soon afterwards, that their wife definetly loves one of them more than the other. Maureen (Robin) is the ex-wife of Eddie and the current wife of Joey. She is also the real-life wife of Sean.\\nMaureen and Eddie are a couple, who love each other madly, but have many problems such as booze, drugs, and Eddie's habit of disappearing from time-to-time. During one of these disappearing acts, the pregnant Maureen is savagely beaten up and probably raped by her neighbor, Kiefer (Gandolfini), but when Eddie returns, she is afraid to tell him this, fearing he will kill the neighbor. So when she lies to him and tells him the marks on her face are from a fall, he doesn't believe her and goes into a rage, forcing her to call EMS. But this backfires and Eddie shoots one of the attendants, as a result he is sent away to the mental house for 10 years. When he gets out, his wife who never visited him while he was institutionalized, has divorced him and remarried a successful construction company owner, Joey, who raises the 9-year-old she had with Eddie, plus raising their own two daughters. But she now must choose which is the one she really loves and wants to stay with.\\nThe film wants to look like a \\\"hip\\\" independent movie, even though this John Cassavetes's scripted work (he died in 1989), directed by his son, is a Hollywood produced movie. It ends up looking not quite like a John Cassavetes independent film should look. It seems to be written as if someone thought that it would be cute to keep leaving out key parts to the story. As a result, the film suffers from incohesiveness, but because of the caliber of actors involved, they make a Cassavetes sandwich seem like it is a Cassavetes sandwich, even if there is not much real Cassavetes in the sandwich. In other words, the story just wasn't there, it didn't seem to be original, and this from a script by the real McCoy of indie films, is astonishing, to say the least, even the ending of the film feels like a blatant rip off of THE GRADUATE.\\nThe film, however, managed to be entertaining. It just mostly lacked insight into what these characters were about. Nothing was resolved or could be fully understood. For example, it made no sense to think that Eddie was well enough to be let free from the institution and still didn't know that he was there for a decade not for three months. Too many other things about the movie were either murky or didn't add up, unless you are willing to except anything goes as a satisfactory story line when it comes to dealing with those who are unstable.\\nWhat worked for me, was the comic reactions by both Stanton and Travolta, it broke the heavy barrage of emoting from the Penns. I also thought that Gandolfini did an excellent job in his brief appearance on screen. He held my attention with his mix of manic sadistic moves and cruel humor. Without them, this film would have taken itself too serious for the untasty Cassavetes sandwich it was trying to serve its too willing captives in the audience.\\nREVIEWED ON 3/3/99\\nDennis Schwartz: \\\"Movie Reviews\\\"\\n\\u00a9 ALL RIGHTS RESERVED DENNIS SCHWARTZ\\n\"\n        ],\n        \"semantic_type\": \"\",\n        \"description\": \"\"\n      }\n    }\n  ]\n}"
            }
          },
          "metadata": {},
          "execution_count": 32
        }
      ]
    },
    {
      "cell_type": "code",
      "source": [
        "doc_sample = data_sample.values[0][1]\n",
        "doc_sample"
      ],
      "metadata": {
        "id": "lRI4KNwSBKlM",
        "outputId": "d2ce7f00-c80e-49c7-f89f-6a49c22548bd",
        "colab": {
          "base_uri": "https://localhost:8080/",
          "height": 182
        }
      },
      "execution_count": 35,
      "outputs": [
        {
          "output_type": "execute_result",
          "data": {
            "text/plain": [
              "'SHE\\'S SO LOVELY (director: Nick Cassavetes; cast: Sean Penn (Eddie), Robin Wright Penn (Maureen), John Travolta (Joey), Harry Dean Stanton (Tony \\'Shorty\\' Russo), Debi Mazar (Georgie), Gena Rowlands (Mrs. Green), James Gandolfini (Kiefer, the neighbor), Susan Traylor (Lucinda), Kelsey Mulrooney (Jennie,Eddie\\'s daughter), 1997)\\nWe have to wait until the near end of this love triangle, a bleak drama about lowlife angst, to hear the words of the Cole Porter tune, of which this film takes its title from, spoken by Eddie (Sean) to Joey (Travolta), \"She doesn\\'t love you. She doesn\\'t love me. She\\'s...delovely.\" But even these words don\\'t make sense, as we find out soon afterwards, that their wife definetly loves one of them more than the other. Maureen (Robin) is the ex-wife of Eddie and the current wife of Joey. She is also the real-life wife of Sean.\\nMaureen and Eddie are a couple, who love each other madly, but have many problems such as booze, drugs, and Eddie\\'s habit of disappearing from time-to-time. During one of these disappearing acts, the pregnant Maureen is savagely beaten up and probably raped by her neighbor, Kiefer (Gandolfini), but when Eddie returns, she is afraid to tell him this, fearing he will kill the neighbor. So when she lies to him and tells him the marks on her face are from a fall, he doesn\\'t believe her and goes into a rage, forcing her to call EMS. But this backfires and Eddie shoots one of the attendants, as a result he is sent away to the mental house for 10 years. When he gets out, his wife who never visited him while he was institutionalized, has divorced him and remarried a successful construction company owner, Joey, who raises the 9-year-old she had with Eddie, plus raising their own two daughters. But she now must choose which is the one she really loves and wants to stay with.\\nThe film wants to look like a \"hip\" independent movie, even though this John Cassavetes\\'s scripted work (he died in 1989), directed by his son, is a Hollywood produced movie. It ends up looking not quite like a John Cassavetes independent film should look. It seems to be written as if someone thought that it would be cute to keep leaving out key parts to the story. As a result, the film suffers from incohesiveness, but because of the caliber of actors involved, they make a Cassavetes sandwich seem like it is a Cassavetes sandwich, even if there is not much real Cassavetes in the sandwich. In other words, the story just wasn\\'t there, it didn\\'t seem to be original, and this from a script by the real McCoy of indie films, is astonishing, to say the least, even the ending of the film feels like a blatant rip off of THE GRADUATE.\\nThe film, however, managed to be entertaining. It just mostly lacked insight into what these characters were about. Nothing was resolved or could be fully understood. For example, it made no sense to think that Eddie was well enough to be let free from the institution and still didn\\'t know that he was there for a decade not for three months. Too many other things about the movie were either murky or didn\\'t add up, unless you are willing to except anything goes as a satisfactory story line when it comes to dealing with those who are unstable.\\nWhat worked for me, was the comic reactions by both Stanton and Travolta, it broke the heavy barrage of emoting from the Penns. I also thought that Gandolfini did an excellent job in his brief appearance on screen. He held my attention with his mix of manic sadistic moves and cruel humor. Without them, this film would have taken itself too serious for the untasty Cassavetes sandwich it was trying to serve its too willing captives in the audience.\\nREVIEWED ON 3/3/99\\nDennis Schwartz: \"Movie Reviews\"\\n© ALL RIGHTS RESERVED DENNIS SCHWARTZ\\n'"
            ],
            "application/vnd.google.colaboratory.intrinsic+json": {
              "type": "string"
            }
          },
          "metadata": {},
          "execution_count": 35
        }
      ]
    },
    {
      "cell_type": "code",
      "source": [
        "len(gensim.parsing.preprocessing.STOPWORDS)"
      ],
      "metadata": {
        "id": "JWxYlhih9V0z",
        "outputId": "d32ef728-d5e6-4bcb-f166-f4a72d39457a",
        "colab": {
          "base_uri": "https://localhost:8080/"
        }
      },
      "execution_count": 26,
      "outputs": [
        {
          "output_type": "execute_result",
          "data": {
            "text/plain": [
              "337"
            ]
          },
          "metadata": {},
          "execution_count": 26
        }
      ]
    },
    {
      "cell_type": "code",
      "source": [
        "gensim.parsing.preprocessing.STOPWORDS"
      ],
      "metadata": {
        "id": "StmNyYS09V_o"
      },
      "execution_count": null,
      "outputs": []
    },
    {
      "cell_type": "code",
      "source": [
        "def lemmatize_stemming(text):\n",
        "    return stemmer.stem(WordNetLemmatizer().lemmatize(text, pos='v'))\n",
        "\n",
        "def preprocess(text):\n",
        "    result = []\n",
        "    for token in gensim.utils.simple_preprocess(text):\n",
        "        if token not in gensim.parsing.preprocessing.STOPWORDS and len(token) > 3:\n",
        "            result.append(lemmatize_stemming(token))\n",
        "    return result"
      ],
      "metadata": {
        "id": "BTPgaJuMgzLR"
      },
      "execution_count": 8,
      "outputs": []
    },
    {
      "cell_type": "code",
      "source": [
        "data_text = df.dropna(subset=['Text'])"
      ],
      "metadata": {
        "id": "1ru4gLaegzZJ"
      },
      "execution_count": 28,
      "outputs": []
    },
    {
      "cell_type": "code",
      "source": [
        "import nltk\n",
        "nltk.download('wordnet')\n",
        "nltk.download('omw-1.4')\n",
        "\n",
        "words = []\n",
        "for word in doc_sample.split(' '):\n",
        "    words.append(word)\n",
        "print(words)\n",
        "print('\\n\\n tokenized and lemmatized document: ')\n",
        "print(preprocess(doc_sample))"
      ],
      "metadata": {
        "id": "SPifSCuigzb7"
      },
      "execution_count": null,
      "outputs": []
    },
    {
      "cell_type": "code",
      "source": [
        "processed_docs = data_text['Text'].map(preprocess)\n",
        "processed_docs[:11]"
      ],
      "metadata": {
        "colab": {
          "base_uri": "https://localhost:8080/"
        },
        "id": "NbmKYEhMgzen",
        "outputId": "b1454c54-a2a0-4082-9c42-90121a2899d7"
      },
      "execution_count": 53,
      "outputs": [
        {
          "output_type": "execute_result",
          "data": {
            "text/plain": [
              "0     [white, balloon, director, jafar, panahi, cast...\n",
              "1     [wake, devin, director, kirk, jone, cast, bann...\n",
              "2     [love, director, nick, cassavet, cast, sean, p...\n",
              "3     [junk, mail, director, sletaun, cast, robert, ...\n",
              "4     [nostalghia, director, andrei, tarkovski, cast...\n",
              "5     [denni, schwartz, movi, review, poetri, unmak,...\n",
              "6     [modern, director, alan, rudolph, cast, keith,...\n",
              "7     [shakespear, love, director, john, madden, cas...\n",
              "8     [scenic, rout, director, mark, rappaport, cast...\n",
              "9     [brilliant, witti, mock, documentari, jean, se...\n",
              "10    [central, station, director, walter, sall, cas...\n",
              "Name: Text, dtype: object"
            ]
          },
          "metadata": {},
          "execution_count": 53
        }
      ]
    },
    {
      "cell_type": "code",
      "source": [
        "#create a dictionary from ‘processed_docs’ containing the number of times a word appears in the document set\n",
        "dictionary = gensim.corpora.Dictionary(processed_docs)"
      ],
      "metadata": {
        "id": "Grmz2yOYgzhH"
      },
      "execution_count": 38,
      "outputs": []
    },
    {
      "cell_type": "code",
      "source": [
        "#Filter out tokens that appear in\n",
        " #less than 15 documents (absolute number) or\n",
        " #more than 0.5 documents (fraction of total corpus size, not absolute number).\n",
        " #after the above two steps, keep only the first 100000 most frequent tokens.\n",
        "\n",
        "dictionary.filter_extremes(no_below=15, no_above=0.5, keep_n=100000)"
      ],
      "metadata": {
        "id": "ROm0sKrAgzjw"
      },
      "execution_count": 39,
      "outputs": []
    },
    {
      "cell_type": "code",
      "source": [
        "bow_corpus = [dictionary.doc2bow(doc) for doc in processed_docs]\n",
        "bow_corpus[['File_Name'] == '17255.txt']"
      ],
      "metadata": {
        "id": "Pfthtf6lDJ7M"
      },
      "execution_count": null,
      "outputs": []
    },
    {
      "cell_type": "code",
      "source": [
        "bow_doc_4310 = bow_corpus[['File_Name'] == '17255.txt']\n",
        "for i in range(len(bow_doc_4310)):\n",
        "    print(\"Word {} (\\\"{}\\\") appears {} time.\".format(bow_doc_4310[i][0], dictionary[bow_doc_4310[i][0]], bow_doc_4310[i][1]))"
      ],
      "metadata": {
        "id": "JkRC1HWPDhXg"
      },
      "execution_count": null,
      "outputs": []
    },
    {
      "cell_type": "code",
      "source": [
        "#run LDA using bag of words\n",
        "#Because LDA uses randomness in both training and inference steps, setting a random state is very important to control the randomness to make answers repeatable.\n",
        "lda_model = gensim.models.LdaMulticore(bow_corpus, num_topics=10, id2word=dictionary, passes=2, workers=2,random_state=2023)"
      ],
      "metadata": {
        "id": "nz4i4ltYEoBb",
        "outputId": "04d3a4cf-441c-440d-8aea-4968096162b1",
        "colab": {
          "base_uri": "https://localhost:8080/"
        }
      },
      "execution_count": 45,
      "outputs": [
        {
          "output_type": "stream",
          "name": "stderr",
          "text": [
            "WARNING:gensim.models.ldamulticore:too few updates, training might not converge; consider increasing the number of passes or iterations to improve accuracy\n"
          ]
        }
      ]
    },
    {
      "cell_type": "code",
      "source": [
        "#for each topic, we will explore the words occuring in that topic and its relative weight.\n",
        "\n",
        "for idx, topic in lda_model.print_topics(-1): # print all the topics. (-1) means all the topics.\n",
        "    print('Topic: {} \\nWords: {}'.format(idx, topic))"
      ],
      "metadata": {
        "id": "NXB0lCZaEw3P"
      },
      "execution_count": null,
      "outputs": []
    },
    {
      "cell_type": "code",
      "source": [
        "lda_model[bow_corpus[['File_Name'] == '17255.txt']]"
      ],
      "metadata": {
        "id": "wz8eBLBbE04e",
        "outputId": "eb48843e-78f4-4b2b-81b8-50fe379bcc23",
        "colab": {
          "base_uri": "https://localhost:8080/"
        }
      },
      "execution_count": 47,
      "outputs": [
        {
          "output_type": "execute_result",
          "data": {
            "text/plain": [
              "[(4, 0.99528533)]"
            ]
          },
          "metadata": {},
          "execution_count": 47
        }
      ]
    },
    {
      "cell_type": "code",
      "source": [
        "top_topics = lda_model.top_topics(corpus=bow_corpus, topn=11)\n",
        "\n",
        "i = 0\n",
        "for words, coherence in top_topics:\n",
        "    print('Topic: {} -> Top Words: {}'.format(i, words))\n",
        "    i += 1\n"
      ],
      "metadata": {
        "id": "8e6am8NRHLya",
        "outputId": "3c5f7d61-736d-4275-db7c-eae012655809",
        "colab": {
          "base_uri": "https://localhost:8080/",
          "height": 219
        }
      },
      "execution_count": 56,
      "outputs": [
        {
          "output_type": "error",
          "ename": "AttributeError",
          "evalue": "'LdaMulticore' object has no attribute 'top_ten'",
          "traceback": [
            "\u001b[0;31m---------------------------------------------------------------------------\u001b[0m",
            "\u001b[0;31mAttributeError\u001b[0m                            Traceback (most recent call last)",
            "\u001b[0;32m<ipython-input-56-1f6c23137f88>\u001b[0m in \u001b[0;36m<cell line: 1>\u001b[0;34m()\u001b[0m\n\u001b[0;32m----> 1\u001b[0;31m \u001b[0mtop_ten\u001b[0m \u001b[0;34m=\u001b[0m \u001b[0mlda_model\u001b[0m\u001b[0;34m.\u001b[0m\u001b[0mtop_ten\u001b[0m\u001b[0;34m(\u001b[0m\u001b[0mcorpus\u001b[0m\u001b[0;34m=\u001b[0m\u001b[0mbow_corpus\u001b[0m\u001b[0;34m,\u001b[0m \u001b[0mtopn\u001b[0m\u001b[0;34m=\u001b[0m\u001b[0;36m11\u001b[0m\u001b[0;34m)\u001b[0m\u001b[0;34m\u001b[0m\u001b[0;34m\u001b[0m\u001b[0m\n\u001b[0m\u001b[1;32m      2\u001b[0m \u001b[0;34m\u001b[0m\u001b[0m\n\u001b[1;32m      3\u001b[0m \u001b[0mi\u001b[0m \u001b[0;34m=\u001b[0m \u001b[0;36m0\u001b[0m\u001b[0;34m\u001b[0m\u001b[0;34m\u001b[0m\u001b[0m\n\u001b[1;32m      4\u001b[0m \u001b[0;32mfor\u001b[0m \u001b[0mwords\u001b[0m\u001b[0;34m,\u001b[0m \u001b[0mcoherence\u001b[0m \u001b[0;32min\u001b[0m \u001b[0mtop_ten\u001b[0m\u001b[0;34m:\u001b[0m\u001b[0;34m\u001b[0m\u001b[0;34m\u001b[0m\u001b[0m\n\u001b[1;32m      5\u001b[0m     \u001b[0mprint\u001b[0m\u001b[0;34m(\u001b[0m\u001b[0;34m'Topic: {} -> Top Words: {}'\u001b[0m\u001b[0;34m.\u001b[0m\u001b[0mformat\u001b[0m\u001b[0;34m(\u001b[0m\u001b[0mi\u001b[0m\u001b[0;34m,\u001b[0m \u001b[0mwords\u001b[0m\u001b[0;34m)\u001b[0m\u001b[0;34m)\u001b[0m\u001b[0;34m\u001b[0m\u001b[0;34m\u001b[0m\u001b[0m\n",
            "\u001b[0;31mAttributeError\u001b[0m: 'LdaMulticore' object has no attribute 'top_ten'"
          ]
        }
      ]
    },
    {
      "cell_type": "code",
      "source": [
        "for i, corpus_item in zip(range(len(bow_corpus)), bow_corpus):\n",
        "    print(data['File_Name'][i], ':', lda_model[corpus_item])"
      ],
      "metadata": {
        "id": "XvH7M6zXHPdY",
        "outputId": "89b4522e-526a-4ec5-c60a-af110f4ac22f",
        "colab": {
          "base_uri": "https://localhost:8080/"
        }
      },
      "execution_count": 55,
      "outputs": [
        {
          "output_type": "stream",
          "name": "stdout",
          "text": [
            "17144.txt : [(4, 0.99528635)]\n",
            "17111.txt : [(3, 0.010904675), (6, 0.2976358), (8, 0.6863852)]\n",
            "17255.txt : [(3, 0.99071836)]\n",
            "17185.txt : [(7, 0.9936147)]\n",
            "17109.txt : [(0, 0.043015044), (3, 0.661759), (8, 0.28437066)]\n",
            "16748.txt : [(1, 0.01375727), (4, 0.68755615), (8, 0.2931729)]\n",
            "17147.txt : [(1, 0.98874635)]\n",
            "17303.txt : [(0, 0.3042248), (8, 0.65554255), (9, 0.034539554)]\n",
            "17150.txt : [(1, 0.6377174), (7, 0.3570521)]\n",
            "17108.txt : [(1, 0.19764349), (7, 0.60092676), (8, 0.19539325)]\n",
            "17300.txt : [(1, 0.96850663), (8, 0.02372374)]\n",
            "17239.txt : [(4, 0.9537108), (8, 0.03199912)]\n",
            "17119.txt : [(0, 0.36659294), (1, 0.6294256)]\n",
            "17146.txt : [(1, 0.42375776), (4, 0.2804612), (5, 0.06913816), (9, 0.2234503)]\n",
            "17118.txt : [(1, 0.8216808), (4, 0.1700693)]\n",
            "17116.txt : [(1, 0.6868116), (6, 0.024643673), (7, 0.2852725)]\n",
            "17139.txt : [(7, 0.9839845), (8, 0.010608218)]\n",
            "17280.txt : [(8, 0.99342823)]\n",
            "17110.txt : [(0, 0.5373454), (7, 0.4575247)]\n",
            "17117.txt : [(1, 0.5111784), (8, 0.48154655)]\n",
            "17254.txt : [(1, 0.99042284)]\n",
            "17145.txt : [(1, 0.17114724), (4, 0.28958574), (9, 0.5317379)]\n",
            "17341.txt : [(1, 0.22385511), (7, 0.77062577)]\n",
            "17219.txt : [(0, 0.9890212)]\n",
            "17192.txt : [(1, 0.08724209), (3, 0.049023572), (8, 0.85693586)]\n",
            "17532.txt : [(0, 0.09939529), (4, 0.20100412), (7, 0.56760556), (8, 0.12398391)]\n",
            "17391.txt : [(5, 0.986359)]\n",
            "17384.txt : [(8, 0.9940379)]\n",
            "17460.txt : [(1, 0.6185811), (4, 0.3740091)]\n",
            "17534.txt : [(1, 0.99347615)]\n",
            "17609.txt : [(1, 0.1108578), (8, 0.8836609)]\n",
            "17447.txt : [(1, 0.9915861)]\n",
            "17457.txt : [(7, 0.98547894)]\n",
            "17399.txt : [(1, 0.99255985)]\n",
            "17610.txt : [(4, 0.99356943)]\n",
            "17501.txt : [(4, 0.91090137), (9, 0.07639594)]\n",
            "17655.txt : [(1, 0.99454355)]\n",
            "17430.txt : [(1, 0.033207864), (6, 0.10574561), (7, 0.858054)]\n",
            "17518.txt : [(0, 0.27795413), (8, 0.71772325)]\n",
            "17398.txt : [(1, 0.99307483)]\n",
            "17431.txt : [(7, 0.99592626)]\n",
            "17662.txt : [(3, 0.9918157)]\n",
            "17761.txt : [(0, 0.18487874), (1, 0.38592258), (7, 0.4235515)]\n",
            "17663.txt : [(7, 0.080265984), (8, 0.91479367)]\n",
            "17695.txt : [(1, 0.3507121), (5, 0.20753817), (7, 0.43544123)]\n",
            "17879.txt : [(9, 0.9839228)]\n",
            "17898.txt : [(0, 0.71251756), (1, 0.28260288)]\n",
            "17963.txt : [(1, 0.99598086)]\n",
            "17811.txt : [(3, 0.99338)]\n",
            "17934.txt : [(6, 0.99672616)]\n",
            "17757.txt : [(8, 0.99528646)]\n",
            "17753.txt : [(0, 0.09336792), (5, 0.9012247)]\n",
            "17886.txt : [(1, 0.24259833), (4, 0.51575816), (7, 0.23873791)]\n",
            "17912.txt : [(1, 0.36883008), (4, 0.3854052), (8, 0.24258168)]\n",
            "17945.txt : [(1, 0.87950474), (7, 0.020826062), (9, 0.0955501)]\n",
            "17896.txt : [(7, 0.56890124), (8, 0.42789766)]\n",
            "17933.txt : [(3, 0.60587263), (4, 0.05368159), (7, 0.33330044)]\n",
            "17874.txt : [(4, 0.24976785), (8, 0.7473222)]\n",
            "17711.txt : [(0, 0.6856261), (1, 0.011395395), (5, 0.20050766), (7, 0.09857336)]\n",
            "17971.txt : [(6, 0.962715), (8, 0.030725555)]\n",
            "17803.txt : [(1, 0.07606234), (3, 0.6936608), (8, 0.22467494)]\n",
            "17713.txt : [(6, 0.8272557), (7, 0.1635456)]\n",
            "17758.txt : [(4, 0.58651537), (8, 0.40556124)]\n",
            "17992.txt : [(0, 0.0890299), (1, 0.8184365), (8, 0.08688651)]\n",
            "18283.txt : [(4, 0.6167335), (6, 0.3760567)]\n",
            "18067.txt : [(7, 0.07396489), (8, 0.9227282)]\n",
            "18161.txt : [(1, 0.72946674), (3, 0.2640797)]\n",
            "18282.txt : [(6, 0.9086007), (8, 0.08455924)]\n",
            "18016.txt : [(7, 0.9905236)]\n",
            "18136.txt : [(1, 0.6531389), (7, 0.3389376)]\n",
            "18273.txt : [(1, 0.18169165), (8, 0.81378704)]\n",
            "18263.txt : [(1, 0.56326306), (4, 0.30644462), (8, 0.12514365)]\n",
            "18156.txt : [(3, 0.9926805)]\n",
            "18227.txt : [(6, 0.04763627), (7, 0.1354475), (8, 0.8126979)]\n",
            "18272.txt : [(1, 0.097434334), (4, 0.7415971), (9, 0.15843141)]\n",
            "18080.txt : [(3, 0.9386843), (4, 0.05480943)]\n",
            "18274.txt : [(4, 0.99196196)]\n",
            "18141.txt : [(1, 0.018513998), (3, 0.28329816), (4, 0.06812587), (5, 0.42352808), (7, 0.0787191), (8, 0.12625179)]\n",
            "18004.txt : [(4, 0.81552523), (7, 0.17726514)]\n",
            "18088.txt : [(4, 0.9927397)]\n",
            "18032.txt : [(1, 0.9915066)]\n",
            "18068.txt : [(3, 0.1711439), (6, 0.82518524)]\n",
            "18087.txt : [(1, 0.99479604)]\n",
            "18396.txt : [(7, 0.99342865)]\n",
            "18368.txt : [(1, 0.05552494), (3, 0.3479545), (5, 0.5928923)]\n",
            "1998.txt : [(0, 0.7624492), (9, 0.23362792)]\n",
            "2062.txt : [(2, 0.27955493), (3, 0.6959766), (4, 0.019848952)]\n",
            "1930.txt : [(6, 0.36002082), (9, 0.6346082)]\n",
            "18485.txt : [(0, 0.5985066), (1, 0.15850367), (5, 0.18725096), (7, 0.053880475)]\n",
            "18181.txt : [(3, 0.9952866)]\n",
            "18498.txt : [(3, 0.30226538), (4, 0.6923274)]\n",
            "1858.txt : [(4, 0.43315798), (5, 0.560733)]\n",
            "18375.txt : [(0, 0.95366794), (8, 0.039718345)]\n",
            "18414.txt : [(1, 0.08899807), (3, 0.8881722), (7, 0.018828426)]\n",
            "1860.txt : [(2, 0.9934286)]\n",
            "18447.txt : [(6, 0.9807878), (8, 0.015777616)]\n",
            "18413.txt : [(4, 0.060527243), (7, 0.93147004)]\n",
            "18406.txt : [(0, 0.13922152), (5, 0.030849863), (8, 0.82414144)]\n",
            "17902.txt : [(0, 0.71279603), (1, 0.28232443)]\n",
            "18480.txt : [(4, 0.99347633)]\n",
            "18473.txt : [(7, 0.9950261)]\n",
            "17243.txt : [(8, 0.9849064)]\n",
            "1859.txt : [(5, 0.6923257), (8, 0.29963595)]\n",
            "18307.txt : [(1, 0.14633474), (3, 0.015745556), (4, 0.69057524), (8, 0.14553122)]\n",
            "17578.txt : [(3, 0.99142575)]\n",
            "18376.txt : [(1, 0.99669003)]\n",
            "1864.txt : [(0, 0.23557924), (2, 0.22178748), (9, 0.53841484)]\n",
            "1943.txt : [(2, 0.99142545)]\n",
            "1916.txt : [(2, 0.5626973), (9, 0.43106845)]\n",
            "1911.txt : [(2, 0.99125934)]\n",
            "1866.txt : [(0, 0.046553247), (1, 0.35873714), (9, 0.5895607)]\n",
            "1967.txt : [(0, 0.048428636), (3, 0.30221257), (4, 0.09584181), (5, 0.53736657), (9, 0.012676934)]\n",
            "1925.txt : [(4, 0.51706845), (5, 0.1511117), (9, 0.32685372)]\n",
            "1976.txt : [(1, 0.045950968), (9, 0.9490473)]\n",
            "1867.txt : [(0, 0.10557578), (5, 0.88687426)]\n",
            "1917.txt : [(0, 0.02388718), (5, 0.10882324), (9, 0.8639552)]\n",
            "1934.txt : [(2, 0.99383384)]\n",
            "1908.txt : [(6, 0.67516226), (9, 0.3187751)]\n",
            "1929.txt : [(0, 0.63131297), (4, 0.030765431), (5, 0.33281022)]\n",
            "1891.txt : [(5, 0.54130983), (9, 0.45185027)]\n",
            "1944.txt : [(9, 0.99243456)]\n",
            "1975.txt : [(3, 0.17252277), (5, 0.5069814), (9, 0.3164714)]\n",
            "1945.txt : [(0, 0.95072234), (9, 0.046089377)]\n",
            "1912.txt : [(0, 0.024139065), (1, 0.18421704), (5, 0.14735952), (6, 0.041231643), (7, 0.2117774), (9, 0.3879683)]\n",
            "1974.txt : [(0, 0.866655), (6, 0.12834331)]\n",
            "1910.txt : [(6, 0.35315505), (9, 0.6412485)]\n",
            "1961.txt : [(2, 0.018311607), (5, 0.9788506)]\n",
            "1921.txt : [(5, 0.995311)]\n",
            "1937.txt : [(5, 0.1500147), (9, 0.8449521)]\n",
            "1968.txt : [(0, 0.05135566), (6, 0.94191915)]\n",
            "1865.txt : [(2, 0.99323064)]\n",
            "1932.txt : [(5, 0.9920331)]\n",
            "1889.txt : [(2, 0.7535579), (9, 0.23942226)]\n",
            "1928.txt : [(1, 0.41622815), (5, 0.1815478), (9, 0.3975866)]\n",
            "2045.txt : [(0, 0.9468908), (9, 0.047267906)]\n",
            "2046.txt : [(0, 0.2889697), (2, 0.4032559), (4, 0.020601733), (5, 0.28314433)]\n",
            "2025.txt : [(0, 0.071004905), (4, 0.659321), (9, 0.2644485)]\n",
            "2005.txt : [(5, 0.22428834), (9, 0.76978385)]\n",
            "1984.txt : [(8, 0.29378915), (9, 0.7008398)]\n",
            "2031.txt : [(0, 0.5706781), (9, 0.425218)]\n",
            "2026.txt : [(5, 0.99166393)]\n",
            "1990.txt : [(0, 0.4077205), (4, 0.40713036), (5, 0.16586684), (7, 0.015812762)]\n",
            "2030.txt : [(5, 0.99502605)]\n",
            "1981.txt : [(9, 0.99653745)]\n",
            "2035.txt : [(5, 0.99338037)]\n",
            "2008.txt : [(2, 0.1501282), (9, 0.84389955)]\n",
            "1985.txt : [(3, 0.74202317), (9, 0.2528469)]\n",
            "2051.txt : [(6, 0.5951784), (7, 0.39697552)]\n",
            "2036.txt : [(1, 0.26375848), (7, 0.5766511), (9, 0.15458858)]\n",
            "2006.txt : [(0, 0.045515407), (2, 0.8718932), (5, 0.07779505)]\n",
            "1991.txt : [(0, 0.5068013), (7, 0.4025185), (9, 0.08507833)]\n",
            "2033.txt : [(0, 0.99052304)]\n",
            "2043.txt : [(0, 0.43834296), (1, 0.1144928), (2, 0.17742904), (5, 0.07596526), (7, 0.04475169), (9, 0.1468317)]\n",
            "1994.txt : [(6, 0.4288554), (8, 0.23180494), (9, 0.33233726)]\n",
            "2009.txt : [(1, 0.09999901), (7, 0.3071376), (9, 0.58822596)]\n",
            "1979.txt : [(7, 0.36684752), (9, 0.62521076)]\n",
            "2007.txt : [(0, 0.13398112), (8, 0.5223937), (9, 0.3402586)]\n",
            "2108.txt : [(0, 0.35585266), (4, 0.63753355)]\n",
            "2110.txt : [(5, 0.67382437), (6, 0.17461057), (9, 0.14797403)]\n",
            "2115.txt : [(9, 0.9941916)]\n",
            "2089.txt : [(9, 0.9956506)]\n",
            "2086.txt : [(2, 0.9917405)]\n",
            "2087.txt : [(9, 0.9930209)]\n",
            "2095.txt : [(4, 0.13989094), (6, 0.2610822), (9, 0.5937218)]\n",
            "2058.txt : [(0, 0.99374795)]\n",
            "2055.txt : [(1, 0.7951173), (9, 0.2014183)]\n",
            "2099.txt : [(0, 0.5782203), (2, 0.05776016), (5, 0.05779444), (9, 0.30225012)]\n",
            "2113.txt : [(1, 0.767074), (5, 0.011336172), (6, 0.10061175), (9, 0.11678075)]\n",
            "2080.txt : [(0, 0.4847341), (5, 0.50971484)]\n",
            "2101.txt : [(0, 0.99255943)]\n",
            "2067.txt : [(1, 0.3220867), (2, 0.14448814), (5, 0.35630178), (9, 0.1735507)]\n",
            "2090.txt : [(0, 0.9945105)]\n",
            "2085.txt : [(1, 0.16693223), (6, 0.5783542), (9, 0.25030944)]\n",
            "2059.txt : [(0, 0.8084168), (1, 0.06258169), (2, 0.12373665)]\n",
            "2076.txt : [(7, 0.9945105)]\n",
            "2094.txt : [(5, 0.65449935), (6, 0.34076518)]\n",
            "2098.txt : [(8, 0.26692683), (9, 0.7276252)]\n",
            "2091.txt : [(5, 0.9107405), (9, 0.08341805)]\n",
            "2079.txt : [(2, 0.8665605), (5, 0.128243)]\n",
            "2081.txt : [(0, 0.10449337), (9, 0.88750356)]\n"
          ]
        }
      ]
    }
  ]
}